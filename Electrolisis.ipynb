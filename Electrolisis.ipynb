{
  "nbformat": 4,
  "nbformat_minor": 0,
  "metadata": {
    "colab": {
      "provenance": [],
      "include_colab_link": true
    },
    "kernelspec": {
      "name": "python3",
      "display_name": "Python 3"
    },
    "language_info": {
      "name": "python"
    }
  },
  "cells": [
    {
      "cell_type": "markdown",
      "metadata": {
        "id": "view-in-github",
        "colab_type": "text"
      },
      "source": [
        "<a href=\"https://colab.research.google.com/github/andrealvarado23/PC/blob/main/Electrolisis.ipynb\" target=\"_parent\"><img src=\"https://colab.research.google.com/assets/colab-badge.svg\" alt=\"Open In Colab\"/></a>"
      ]
    },
    {
      "cell_type": "markdown",
      "source": [
        "Integrantes:\n",
        "\n",
        "Alvarado Cánova, André Manuel\n",
        "\n",
        "Dávila Pucuhuayla, Jazmín Sarai\n",
        "\n",
        "Liñan Pradoo, Francklin Efrain\n",
        "\n",
        "Mauricio Bobadilla, Eduardo Francisco\n",
        "\n",
        "Villaverde Salazar, Brad Valentino\n",
        "\n",
        "Zarate Rea, Jose Alexis\n"
      ],
      "metadata": {
        "id": "lBkwy7E9hVAX"
      }
    },
    {
      "cell_type": "markdown",
      "source": [
        "En un experimento de electrolisis, se pasa una corriente eléctrica de 2 amperios a través de una solución acuosa de ácido sulfúrico durante 30 minutos utilizando electrodos de platino. ¿Cuántos moles de hidrógeno y oxígeno se producirán en los electrodos y en qué proporción, según la ecuación de electrólisis del ácido sulfúrico?\n",
        "\n",
        "La ecuación de electrólisis del ácido sulfúrico es:\n",
        "\n",
        "En el cátodo: (2H^+ )+ 2e = H2(g)\n",
        "\n",
        "En el ánodo: 2H2O(l) = O2(g) + (4H^+)+ 4e\n",
        "\n"
      ],
      "metadata": {
        "id": "cGThI9hJfnZv"
      }
    },
    {
      "cell_type": "code",
      "source": [
        "\"Solución\""
      ],
      "metadata": {
        "colab": {
          "base_uri": "https://localhost:8080/",
          "height": 36
        },
        "id": "3U3eYLW-fpe2",
        "outputId": "912d958e-094f-482d-8db0-4c63820cb8be"
      },
      "execution_count": null,
      "outputs": [
        {
          "output_type": "execute_result",
          "data": {
            "text/plain": [
              "'Solución'"
            ],
            "application/vnd.google.colaboratory.intrinsic+json": {
              "type": "string"
            }
          },
          "metadata": {},
          "execution_count": 2
        }
      ]
    },
    {
      "cell_type": "code",
      "source": [
        "\"Usaremos las leyes de Faraday que establecen que 1 faraday equivale a la carga de 1 mol de electrones (96,485 culombios) y que la carga total se calcula como el producto de la corriente (en amperios) y el tiempo (en segundos).\""
      ],
      "metadata": {
        "colab": {
          "base_uri": "https://localhost:8080/",
          "height": 53
        },
        "id": "CgR77-8lg8di",
        "outputId": "e6481c71-ca56-407b-d55a-d8cf721cbb38"
      },
      "execution_count": null,
      "outputs": [
        {
          "output_type": "execute_result",
          "data": {
            "text/plain": [
              "'Usaremos las leyes de Faraday que establecen que 1 faraday equivale a la carga de 1 mol de electrones (96,485 culombios) y que la carga total se calcula como el producto de la corriente (en amperios) y el tiempo (en segundos).'"
            ],
            "application/vnd.google.colaboratory.intrinsic+json": {
              "type": "string"
            }
          },
          "metadata": {},
          "execution_count": 4
        }
      ]
    },
    {
      "cell_type": "code",
      "source": [
        "# Constantes\n",
        "corriente = 2  # Corriente en amperios\n",
        "tiempo = 30 * 60  # Tiempo en segundos (30 minutos convertidos a segundos)\n",
        "\n",
        "# Constante de Faraday (carga de 1 mol de electrones en culombios)\n",
        "faraday = 96485\n",
        "\n",
        "# Moles de electrones transferidos en las reacciones\n",
        "moles_electrones_caton = 2  # Moles de electrones por mol de hidrógeno\n",
        "moles_electrones_anion = 4  # Moles de electrones por mol de oxígeno\n",
        "\n",
        "# Cálculo de la carga total en culombios\n",
        "carga_total = corriente * tiempo\n",
        "\n",
        "# Cálculo de moles de hidrógeno y oxígeno producidos\n",
        "moles_hidrogeno = (carga_total / faraday) / moles_electrones_caton\n",
        "moles_oxigeno = (carga_total / faraday) / moles_electrones_anion\n",
        "\n",
        "print(f\"Moles de hidrógeno producidos: {moles_hidrogeno:.4f} moles\")\n",
        "print(f\"Moles de oxígeno producidos: {moles_oxigeno:.4f} moles\")\n"
      ],
      "metadata": {
        "colab": {
          "base_uri": "https://localhost:8080/"
        },
        "id": "JXgn95uXg9Tw",
        "outputId": "4e97e478-fc7d-4985-a9c2-06d736be3d17"
      },
      "execution_count": null,
      "outputs": [
        {
          "output_type": "stream",
          "name": "stdout",
          "text": [
            "Moles de hidrógeno producidos: 0.0187 moles\n",
            "Moles de oxígeno producidos: 0.0093 moles\n"
          ]
        }
      ]
    }
  ]
}