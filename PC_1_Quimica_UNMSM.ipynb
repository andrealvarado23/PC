{
  "nbformat": 4,
  "nbformat_minor": 0,
  "metadata": {
    "colab": {
      "provenance": [],
      "include_colab_link": true
    },
    "kernelspec": {
      "name": "python3",
      "display_name": "Python 3"
    },
    "language_info": {
      "name": "python"
    },
    "widgets": {
      "application/vnd.jupyter.widget-state+json": {
        "d4691835f4474884829213796343340f": {
          "model_module": "faerun-notebook",
          "model_name": "SmilesDrawerModel",
          "model_module_version": "^0.1.5",
          "state": {
            "_dom_classes": [],
            "_model_module": "faerun-notebook",
            "_model_module_version": "^0.1.5",
            "_model_name": "SmilesDrawerModel",
            "_view_count": null,
            "_view_module": "faerun-notebook",
            "_view_module_version": "^0.1.5",
            "_view_name": "SmilesDrawerView",
            "background": "#1e1e1e",
            "border": true,
            "layout": "IPY_MODEL_35b7ce94b6e84d4c985918e50984dcd7",
            "options": {
              "scale": 1.25
            },
            "output": "svg",
            "theme": "dark",
            "value": [
              [
                "Rxn",
                "C(C1C(C(C(C(O1)O)O)O)O)O.O=O>>C(=O)=O.O"
              ]
            ]
          }
        },
        "35b7ce94b6e84d4c985918e50984dcd7": {
          "model_module": "@jupyter-widgets/base",
          "model_name": "LayoutModel",
          "model_module_version": "1.2.0",
          "state": {
            "_model_module": "@jupyter-widgets/base",
            "_model_module_version": "1.2.0",
            "_model_name": "LayoutModel",
            "_view_count": null,
            "_view_module": "@jupyter-widgets/base",
            "_view_module_version": "1.2.0",
            "_view_name": "LayoutView",
            "align_content": null,
            "align_items": null,
            "align_self": null,
            "border": null,
            "bottom": null,
            "display": null,
            "flex": null,
            "flex_flow": null,
            "grid_area": null,
            "grid_auto_columns": null,
            "grid_auto_flow": null,
            "grid_auto_rows": null,
            "grid_column": null,
            "grid_gap": null,
            "grid_row": null,
            "grid_template_areas": null,
            "grid_template_columns": null,
            "grid_template_rows": null,
            "height": null,
            "justify_content": null,
            "justify_items": null,
            "left": null,
            "margin": null,
            "max_height": null,
            "max_width": null,
            "min_height": null,
            "min_width": null,
            "object_fit": null,
            "object_position": null,
            "order": null,
            "overflow": null,
            "overflow_x": null,
            "overflow_y": null,
            "padding": null,
            "right": null,
            "top": null,
            "visibility": null,
            "width": null
          }
        }
      }
    }
  },
  "cells": [
    {
      "cell_type": "markdown",
      "metadata": {
        "id": "view-in-github",
        "colab_type": "text"
      },
      "source": [
        "<a href=\"https://colab.research.google.com/github/andrealvarado23/PC/blob/main/PC_1_Quimica_UNMSM.ipynb\" target=\"_parent\"><img src=\"https://colab.research.google.com/assets/colab-badge.svg\" alt=\"Open In Colab\"/></a>"
      ]
    },
    {
      "cell_type": "markdown",
      "source": [
        "$$\\Large \\textit{UNMSM | Química}$$\n",
        "$$\\large \\textbf{PC Nº1 | Materia y clasificación}$$\n",
        "\n",
        "_Profesor: Jesus Alvarado Huayhuaz_"
      ],
      "metadata": {
        "id": "sDJAjbaQOj4x"
      }
    },
    {
      "cell_type": "markdown",
      "source": [
        "Todas las indicaciones para la presentación de la práctica son explicadas en clase y brindadas en el material de enunciado de preguntas en formato PDF."
      ],
      "metadata": {
        "id": "_DsTzWLoP7Fy"
      }
    },
    {
      "cell_type": "markdown",
      "source": [
        "## Pregunta 1: Sobre el ABC de python (4 puntos)"
      ],
      "metadata": {
        "id": "obD7c2igOD6t"
      }
    },
    {
      "cell_type": "markdown",
      "source": [
        "Durante la semana de revisión del material \"ABC de python\", reflexiona sobre qué conceptos aprendiste con claridad y cuáles consideras los más desafiantes. A continuación resuelve los siguiente ejercicios, puedes ayudarte del material en http://bit.ly/3YKICSZ."
      ],
      "metadata": {
        "id": "emt93S7dL7QH"
      }
    },
    {
      "cell_type": "code",
      "source": [
        "# Imprime la versión de python que usas y las palabras reservadas de python para esa versión.\n",
        "!python --version  # la version que genera cuando compilo el codigo es : Python 3.10.12\n",
        "help(\"keywords\") #Los principales códigos para ejecutar"
      ],
      "metadata": {
        "id": "6mJvqMN0LTU8",
        "outputId": "95fc0ab9-2579-45ec-abbb-844404554872",
        "colab": {
          "base_uri": "https://localhost:8080/"
        }
      },
      "execution_count": null,
      "outputs": [
        {
          "output_type": "stream",
          "name": "stdout",
          "text": [
            "Python 3.10.12\n",
            "\n",
            "Here is a list of the Python keywords.  Enter any keyword to get more help.\n",
            "\n",
            "False               class               from                or\n",
            "None                continue            global              pass\n",
            "True                def                 if                  raise\n",
            "and                 del                 import              return\n",
            "as                  elif                in                  try\n",
            "assert              else                is                  while\n",
            "async               except              lambda              with\n",
            "await               finally             nonlocal            yield\n",
            "break               for                 not                 \n",
            "\n"
          ]
        }
      ]
    },
    {
      "cell_type": "code",
      "source": [
        "# Crea una matriz de 3x3 e imprime la suma de los elementos en su diagonal (traza).\n",
        "numeros =[[1,4,6],[7,5,8],[7,2,3]]\n",
        "Lista_de_numeros = []\n",
        "for indice,numero in enumerate(numeros):\n",
        "   Lista_de_numeros.append(numero[indice])\n",
        "   print(numero[indice])\n"
      ],
      "metadata": {
        "id": "MxDzGypdLTXh",
        "colab": {
          "base_uri": "https://localhost:8080/"
        },
        "outputId": "7bc5369f-fdba-4792-adb0-8b3991d41b36"
      },
      "execution_count": null,
      "outputs": [
        {
          "output_type": "stream",
          "name": "stdout",
          "text": [
            "1\n",
            "5\n",
            "3\n"
          ]
        }
      ]
    },
    {
      "cell_type": "code",
      "source": [
        "sum(Lista_de_numeros)"
      ],
      "metadata": {
        "colab": {
          "base_uri": "https://localhost:8080/"
        },
        "id": "A9hfn2qu6CoG",
        "outputId": "f042c5b6-17cd-4494-9c52-225c43613f42"
      },
      "execution_count": null,
      "outputs": [
        {
          "output_type": "execute_result",
          "data": {
            "text/plain": [
              "9"
            ]
          },
          "metadata": {},
          "execution_count": 30
        }
      ]
    },
    {
      "cell_type": "code",
      "source": [
        "# Guarda como variable la masa atómica de los elementos C, H y O, e imprime la masa molecular del etanol.\n",
        "#main : masa_carbono, masa_hidrogeno y masa_oxigeno\n",
        "masa_carbono = 12.011\n",
        "masa_hidrogeno = 1.001\n",
        "masa_oxigeno = 15.999\n"
      ],
      "metadata": {
        "id": "MyhNX7JmLTSe"
      },
      "execution_count": null,
      "outputs": []
    },
    {
      "cell_type": "code",
      "source": [
        "masa_etanol = masa_carbono*2 + masa_hidrogeno*6 + masa_oxigeno*1\n",
        "print(\"la masa molecular del etanol es: \", masa_etanol)"
      ],
      "metadata": {
        "colab": {
          "base_uri": "https://localhost:8080/"
        },
        "id": "t2aNijLq61Nh",
        "outputId": "07172d4d-0553-4b0e-f497-204e5083d47d"
      },
      "execution_count": null,
      "outputs": [
        {
          "output_type": "stream",
          "name": "stdout",
          "text": [
            "la masa molecular del etanol es:  46.027\n"
          ]
        }
      ]
    },
    {
      "cell_type": "code",
      "source": [
        "# Busca la temperatura de fusión en Celsius de 5 metales y guárdalos en una lista. Imprime las temperaturas en Kelvin\n",
        "#main : temperatura de fusión de 5 metales en Celsius y temperaturas en Kelvin\n",
        "temperatura_fusion = [1535, 660, 1884, 961, 1064]\n",
        "grados_kelvin = [temperatura - 273.15 for temperatura in temperatura_fusion]\n",
        "print(grados_kelvin)"
      ],
      "metadata": {
        "id": "NCOnJ0FwgLLc",
        "colab": {
          "base_uri": "https://localhost:8080/"
        },
        "outputId": "1aedc6e2-07aa-46ea-8feb-3f61dafaae0d"
      },
      "execution_count": null,
      "outputs": [
        {
          "output_type": "stream",
          "name": "stdout",
          "text": [
            "[1261.85, 386.85, 1610.85, 687.85, 790.85]\n"
          ]
        }
      ]
    },
    {
      "cell_type": "markdown",
      "source": [
        "## Pregunta 2: Operaciones (4 puntos)"
      ],
      "metadata": {
        "id": "epzOadagLfPi"
      }
    },
    {
      "cell_type": "markdown",
      "source": [
        "Escribe un programa que lea repetidamente elementos químicos en español hasta que el usuario introduzca “fin”. Una vez se haya introducido “fin”, muestra por pantalla (o sea imprime) el total de elementos ingresados. Si el usuario introduce cualquier otra cosa que no sea un elemento químico, detecta su fallo usando try y except, muestra un mensaje de error y pasa al siguiente elemento."
      ],
      "metadata": {
        "id": "MbAEOGPsjOWZ"
      }
    },
    {
      "cell_type": "code",
      "source": [
        "# lista de elementos químicos en español\n",
        "elementos_quimicos = {\n",
        "    \"hidrogeno\": \"H\",\n",
        "    \"helio\": \"He\",\n",
        "    \"litio\": \"Li\",\n",
        "    \"berilio\": \"Be\",\n",
        "    \"boro\": \"B\",\n",
        "    \"carbono\": \"C\",\n",
        "    \"nitrogeno\": \"N\",\n",
        "    \"oxigeno\": \"O\",\n",
        "    \"flúor\": \"F\",\n",
        "    \"neon\": \"Ne\",\n",
        "    \"sodio\": \"Na\",}\n",
        "\n",
        "# Inicializar la variable para contar los elementos\n",
        "total_elementos = 0\n",
        "\n",
        "while True:\n",
        "    entrada = input(\"Introduce un elemento químico en español o escribe 'fin' para terminar: \").strip().lower()\n",
        "\n",
        "    if entrada == \"fin\":\n",
        "        break\n",
        "\n",
        "    try:\n",
        "        # Intenta buscar el elemento en el diccionario\n",
        "        simbolo = elementos_quimicos[entrada]\n",
        "        total_elementos += 1\n",
        "        print(f\"Elemento químico válido: {entrada} ({simbolo})\")\n",
        "    except KeyError:\n",
        "        print(f\"Error: '{entrada}' no es un elemento químico válido.\")\n",
        "\n",
        "print(f\"Total de elementos químicos ingresados: {total_elementos}\")\n"
      ],
      "metadata": {
        "colab": {
          "base_uri": "https://localhost:8080/"
        },
        "id": "T6NC1DwJ9xrO",
        "outputId": "0310ca5e-d8e9-460d-adbc-7dd867f05402"
      },
      "execution_count": null,
      "outputs": [
        {
          "output_type": "stream",
          "name": "stdout",
          "text": [
            "Introduce un elemento químico en español o escribe 'fin' para terminar: sodio\n",
            "Elemento químico válido: sodio (Na)\n",
            "Introduce un elemento químico en español o escribe 'fin' para terminar: sodio\n",
            "Elemento químico válido: sodio (Na)\n",
            "Introduce un elemento químico en español o escribe 'fin' para terminar: berilio\n",
            "Elemento químico válido: berilio (Be)\n",
            "Introduce un elemento químico en español o escribe 'fin' para terminar: argon\n",
            "Error: 'argon' no es un elemento químico válido.\n",
            "Introduce un elemento químico en español o escribe 'fin' para terminar: fin\n",
            "Total de elementos químicos ingresados: 3\n"
          ]
        }
      ]
    },
    {
      "cell_type": "code",
      "source": [],
      "metadata": {
        "id": "gJGX0p5QLetj"
      },
      "execution_count": null,
      "outputs": []
    },
    {
      "cell_type": "markdown",
      "source": [
        "# Pregunta 3: Conservación de la masa (4 puntos)"
      ],
      "metadata": {
        "id": "8gxSHpD3LZsh"
      }
    },
    {
      "cell_type": "code",
      "source": [],
      "metadata": {
        "id": "r_KQ_HjZ-2Bv"
      },
      "execution_count": null,
      "outputs": []
    },
    {
      "cell_type": "markdown",
      "source": [
        "### Código necesario para generar la imagen"
      ],
      "metadata": {
        "id": "mMV9c3hDl7KL"
      }
    },
    {
      "cell_type": "code",
      "source": [
        "!pip install faerun-notebook==0.1.5b0\n",
        "\n",
        "import ipywidgets as widgets\n",
        "from faerun_notebook import SmilesDrawer\n",
        "from google.colab import output\n",
        "output.enable_custom_widget_manager()"
      ],
      "metadata": {
        "id": "JgF8Ohtbky65"
      },
      "execution_count": null,
      "outputs": []
    },
    {
      "cell_type": "markdown",
      "source": [
        "### Reacción química"
      ],
      "metadata": {
        "id": "5sLC10D_oSrV"
      }
    },
    {
      "cell_type": "markdown",
      "source": [
        "Demuestra cómo se cumple la conservación de la masa en la siguiente reacción química. Sugerencia: hacer un balance estequiométrico y luego emplear la masa molecular de reactivos y productos."
      ],
      "metadata": {
        "id": "OVRhAzaVmD86"
      }
    },
    {
      "cell_type": "code",
      "source": [
        "SmilesDrawer(value=[(\"Rxn\", \"C(C1C(C(C(C(O1)O)O)O)O)O.O=O>>C(=O)=O.O\")], theme='dark', background=\"#1e1e1e\", options={'scale': 1.25})"
      ],
      "metadata": {
        "colab": {
          "base_uri": "https://localhost:8080/",
          "height": 289,
          "referenced_widgets": [
            "d4691835f4474884829213796343340f",
            "35b7ce94b6e84d4c985918e50984dcd7"
          ]
        },
        "id": "CC0mAXWmnYyN",
        "outputId": "fb9a2a33-11fa-47cd-bffe-ce9c285db1d8"
      },
      "execution_count": null,
      "outputs": [
        {
          "output_type": "display_data",
          "data": {
            "text/plain": [
              "SmilesDrawer(background='#1e1e1e', options={'scale': 1.25}, theme='dark', value=[('Rxn', 'C(C1C(C(C(C(O1)O)O)O…"
            ],
            "application/vnd.jupyter.widget-view+json": {
              "version_major": 2,
              "version_minor": 0,
              "model_id": "d4691835f4474884829213796343340f"
            }
          },
          "metadata": {
            "application/vnd.jupyter.widget-view+json": {
              "colab": {
                "custom_widget_manager": {
                  "url": "https://ssl.gstatic.com/colaboratory-static/widgets/colab-cdn-widget-manager/b3e629b1971e1542/manager.min.js"
                }
              }
            }
          }
        }
      ]
    },
    {
      "cell_type": "code",
      "source": [
        "# Guarda como variable la masa atómica de los elementos C, H y O, e imprime la masa molecular del etanol.\n",
        "#main : masa_carbono, masa_hidrogeno y masa_oxigeno\n",
        "masa_carbono = 12.011\n",
        "masa_hidrogeno = 1.001\n",
        "masa_oxigeno = 15.999\n",
        "masa_molecular_glucosa = masa_carbono*6 + masa_hidrogeno*12 + masa_oxigeno*6\n",
        "masa_melecular_oxigeno = masa_oxigeno*2\n",
        "print(\"la masa molecular de la glucosa es: \", masa_molecular_glucosa)\n",
        "print(\"la masa molecular del oxigeno es: \", masa_melecular_oxigeno)"
      ],
      "metadata": {
        "colab": {
          "base_uri": "https://localhost:8080/"
        },
        "id": "JmzuDlnj-5TP",
        "outputId": "9d6887fb-8100-4ea1-a501-68098d761d6c"
      },
      "execution_count": null,
      "outputs": [
        {
          "output_type": "stream",
          "name": "stdout",
          "text": [
            "la masa molecular de la glucosa es:  180.072\n",
            "la masa molecular del oxigeno es:  31.998\n"
          ]
        }
      ]
    },
    {
      "cell_type": "code",
      "source": [
        "#masa total de los reactantes\n",
        "suma = masa_molecular_glucosa + masa_melecular_oxigeno\n",
        "print(\"la masa total de los reactantes es: \", suma)"
      ],
      "metadata": {
        "colab": {
          "base_uri": "https://localhost:8080/"
        },
        "id": "4Jg6ezBWC6ij",
        "outputId": "d218be10-476b-4097-ae79-6f6651c6b78b"
      },
      "execution_count": null,
      "outputs": [
        {
          "output_type": "stream",
          "name": "stdout",
          "text": [
            "la masa total de los reactantes es:  212.07\n"
          ]
        }
      ]
    },
    {
      "cell_type": "code",
      "source": [
        "masa_molecular_dioxido_de_carbono = masa_carbono*1 + masa_oxigeno*2\n",
        "masa_melecular_agua = masa_hidrogeno*2 + masa_oxigeno*1\n",
        "print(\"la masa molecular del dioxido de carbono: \", masa_molecular_dioxido_de_carbono)\n",
        "print(\"la masa molecular de la agua es: \", masa_melecular_agua)\n"
      ],
      "metadata": {
        "colab": {
          "base_uri": "https://localhost:8080/"
        },
        "id": "NrbtfNh8Alfo",
        "outputId": "e03d89bf-9977-4c8d-9d59-46c06f1e57d4"
      },
      "execution_count": null,
      "outputs": [
        {
          "output_type": "stream",
          "name": "stdout",
          "text": [
            "la masa molecular del dioxido de carbono:  44.009\n",
            "la masa molecular de la agua es:  18.001\n"
          ]
        }
      ]
    },
    {
      "cell_type": "code",
      "source": [
        "#masa total de productos\n",
        "suma = masa_molecular_dioxido_de_carbono + masa_melecular_agua\n",
        "print(\"la masa total de los productos es: \", suma)"
      ],
      "metadata": {
        "colab": {
          "base_uri": "https://localhost:8080/"
        },
        "id": "Bo8kufIfABmk",
        "outputId": "8aad2d70-806e-4515-95f1-326cd8b05b1a"
      },
      "execution_count": null,
      "outputs": [
        {
          "output_type": "stream",
          "name": "stdout",
          "text": [
            "la masa total de los productos es:  62.010000000000005\n"
          ]
        }
      ]
    },
    {
      "cell_type": "markdown",
      "source": [
        "**C6H12O6+6O2--->6CO2+6H2O**\n",
        "\n",
        "\n",
        "\n",
        "\n"
      ],
      "metadata": {
        "id": "YlWKrTkqDLyc"
      }
    },
    {
      "cell_type": "code",
      "source": [
        "#masa de los reactantes balanceados\n",
        "balanceo_de_reactantes = masa_molecular_glucosa + masa_melecular_oxigeno*6\n",
        "print(\"la masa de los reactantes balanceados es: \", balanceo_de_reactantes)\n",
        "\n"
      ],
      "metadata": {
        "colab": {
          "base_uri": "https://localhost:8080/"
        },
        "id": "c9eyqCa3D0KD",
        "outputId": "554e5f0c-aef9-4816-d359-0a02c1b67537"
      },
      "execution_count": null,
      "outputs": [
        {
          "output_type": "stream",
          "name": "stdout",
          "text": [
            "la masa de los reactantes balanceados es:  372.06\n"
          ]
        }
      ]
    },
    {
      "cell_type": "code",
      "source": [
        "#masa de los productos balanceados\n",
        "balanceo_de_productos = masa_molecular_dioxido_de_carbono*6 + masa_melecular_agua*6\n",
        "print(\"la masa de los productos balanceados es: \", round(balanceo_de_productos,2))"
      ],
      "metadata": {
        "colab": {
          "base_uri": "https://localhost:8080/"
        },
        "id": "tbGAZKcaEvS-",
        "outputId": "d061180c-223a-4d32-dad4-370b5cdb500d"
      },
      "execution_count": null,
      "outputs": [
        {
          "output_type": "stream",
          "name": "stdout",
          "text": [
            "la masa de los productos balanceados es:  372.06\n"
          ]
        }
      ]
    },
    {
      "cell_type": "markdown",
      "source": [
        "#Podemos comprobar que la masa total de los productos es igual a la masa total de los reactantes, y por ende se ha comprobado la ley de la \"Conservación de la materia\"."
      ],
      "metadata": {
        "id": "bTWDmOlpHTig"
      }
    },
    {
      "cell_type": "markdown",
      "source": [
        "## Pregunta 4: Notación científica (4 puntos)"
      ],
      "metadata": {
        "id": "Rh-nAUiKhJNB"
      }
    },
    {
      "cell_type": "markdown",
      "source": [
        "Imprime las siguientes operaciones según la notación científica:\n",
        "\n",
        "(1) $1.321 \\times 10^{-4} + 8.5 \\times 10^{-2}$\n",
        "\n",
        "(2) $1.71 \\times 10^{3} - 2.01 \\times 10^{2}\\$\n",
        "\n",
        "(3) $(7.4 \\times 10^5)(7.2 \\times 10^4)$\n",
        "\n",
        "(4) $(7.4 \\times 10^5)/(7.2 \\times 10^4)$"
      ],
      "metadata": {
        "id": "NIkI45Xdqqnt"
      }
    },
    {
      "cell_type": "code",
      "source": [
        "resultado1 = (round((0.01321*10**-2 + 8.5*10**-2),3))\n",
        "resultado2 = (round((1.71*10**3 + 0.201*10**3),3))\n",
        "resultado3 = (round(((7.4*10**5)*(7.2*10**4))))\n",
        "resultado4 = (round((7.4*10**5)/(7.2*10**4),1))\n",
        "print(\"El primer resultado es: \", resultado1)\n",
        "print(\"El segundo resultado es: \", resultado2)\n",
        "print(\"El tercer resultado es: \", resultado3)\n",
        "print(\"El cuarto resultado es: \", resultado4)"
      ],
      "metadata": {
        "colab": {
          "base_uri": "https://localhost:8080/"
        },
        "id": "jVj4T3-tHnx9",
        "outputId": "83ce03b5-5546-4230-cddd-b15d8e23dfa4"
      },
      "execution_count": null,
      "outputs": [
        {
          "output_type": "stream",
          "name": "stdout",
          "text": [
            "El primer resultado es:  0.085\n",
            "El segundo resultado es:  1911.0\n",
            "El tercer resultado es:  53280000000\n",
            "El cuarto resultado es:  10.3\n"
          ]
        }
      ]
    },
    {
      "cell_type": "markdown",
      "source": [
        "## Pregunta 5: Método científico (4 puntos)"
      ],
      "metadata": {
        "id": "CuzCcXJghR14"
      }
    },
    {
      "cell_type": "markdown",
      "source": [
        "El artículo analiza el material LK99, que inicialmente se creía que era un superconductor a temperatura ambiente, pero luego se descubrió que era un aislante. Se encontró que la presencia de impurezas en el material era responsable de las propiedades observadas. El documento también menciona el riesgo para el objetivo de eliminar el poliovirus salvaje tipo 1 para 2023 debido a su aparición en África Oriental. Sin embargo, con esfuerzos coordinados de vacunación, todavía existe la posibilidad de detener la transmisión del virus. **El método científico** se aplicó en este artículo a través de la observación de un fenómeno, la formulación de una hipótesis, la experimentación para probar la hipótesis y el análisis de los resultados para llegar a una conclusión. Estos pasos son fundamentales en el proceso científico para obtener conocimiento confiable y respaldado por evidencia"
      ],
      "metadata": {
        "id": "ur9JQDGnQyVT"
      }
    },
    {
      "cell_type": "markdown",
      "source": [
        "Artículo: https://bit.ly/3surZ1W\n",
        "Leer el siguiente artículo y explica cómo es aplicado el método científico. Emplea como máximo 300 palabras."
      ],
      "metadata": {
        "id": "WngRSR-Rhmx1"
      }
    }
  ]
}