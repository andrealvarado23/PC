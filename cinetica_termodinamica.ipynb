{
  "nbformat": 4,
  "nbformat_minor": 0,
  "metadata": {
    "colab": {
      "provenance": [],
      "toc_visible": true,
      "include_colab_link": true
    },
    "kernelspec": {
      "name": "python3",
      "display_name": "Python 3"
    },
    "language_info": {
      "name": "python"
    }
  },
  "cells": [
    {
      "cell_type": "markdown",
      "metadata": {
        "id": "view-in-github",
        "colab_type": "text"
      },
      "source": [
        "<a href=\"https://colab.research.google.com/github/andrealvarado23/PC/blob/main/cinetica_termodinamica.ipynb\" target=\"_parent\"><img src=\"https://colab.research.google.com/assets/colab-badge.svg\" alt=\"Open In Colab\"/></a>"
      ]
    },
    {
      "cell_type": "markdown",
      "source": [
        "<br>\n",
        "<br>\n",
        "<br>\n",
        "<br>\n",
        "<br>\n",
        "\n",
        "<font size='6' style=\"color:#00A6D6\">  <b>Cinética y Termodinámica</b> </font>\n",
        "<a name=\"loading\"></a>\n",
        "\n",
        "<font size='4' style=\"color:#00A6D6\">  <b>Jesus Alvarado-Huayhuaz\n",
        "\n",
        "</b> </font>\n",
        "<a name=\"loading\"></a>"
      ],
      "metadata": {
        "id": "MFEczF8MoLOn"
      }
    },
    {
      "cell_type": "markdown",
      "source": [
        "## [1] Instalación de librerías"
      ],
      "metadata": {
        "id": "vG4LjLYnXQ3U"
      }
    },
    {
      "cell_type": "code",
      "execution_count": 46,
      "metadata": {
        "id": "xE_b5Ce1Su26"
      },
      "outputs": [],
      "source": [
        "  %%capture\n",
        "  !pip install rdkit\n",
        "  !pip install pyscf"
      ]
    },
    {
      "cell_type": "code",
      "source": [
        "# Importamos librerías\n",
        "from rdkit import Chem\n",
        "from rdkit.Chem import Draw\n",
        "from rdkit.Chem import AllChem\n",
        "from rdkit.Chem.Draw import IPythonConsole\n",
        "IPythonConsole.drawOptions.addAtomIndices = True\n",
        "from pyscf import gto, scf"
      ],
      "metadata": {
        "id": "QzCqewUHWFi0"
      },
      "execution_count": 2,
      "outputs": []
    },
    {
      "cell_type": "markdown",
      "source": [
        "## [2] Estructuras"
      ],
      "metadata": {
        "id": "dsrpeM_nXVXL"
      }
    },
    {
      "cell_type": "markdown",
      "source": [
        "### Isómero CIS"
      ],
      "metadata": {
        "id": "AlwW7nx0jO42"
      }
    },
    {
      "cell_type": "code",
      "source": [
        "# representación SMILES del isómero CIS\n",
        "smi_cis = \"F\\C=C/C\"\n",
        "# elemento de RDKit\n",
        "cis = Chem.MolFromSmiles(smi_cis)\n",
        "# agregamos sus hidrógenos\n",
        "cis = Chem.AddHs(cis)\n",
        "# etiquetamos sus átomos y generamos sus coordenadas usando una semilla\n",
        "Chem.AllChem.EmbedMolecule(cis, useRandomCoords=False,randomSeed=1234)\n",
        "# guardamos a un archivo XYZ\n",
        "Chem.MolToXYZFile(cis, \"cis.xyz\")"
      ],
      "metadata": {
        "id": "KOoY4QRfZF-8"
      },
      "execution_count": 60,
      "outputs": []
    },
    {
      "cell_type": "code",
      "source": [
        "#visualizamos\n",
        "cis"
      ],
      "metadata": {
        "colab": {
          "base_uri": "https://localhost:8080/",
          "height": 167
        },
        "id": "us958ET5paDJ",
        "outputId": "bc09ab49-9b3c-411b-ef8a-ed7558a0eefd"
      },
      "execution_count": 61,
      "outputs": [
        {
          "output_type": "execute_result",
          "data": {
            "text/plain": [
              "<rdkit.Chem.rdchem.Mol at 0x7b6b02710dd0>"
            ],
            "image/png": "[encoded data removed]"
          },
          "metadata": {},
          "execution_count": 61
        }
      ]
    },
    {
      "cell_type": "code",
      "source": [
        "# visualizamos las coordenadas en el archivo XYZ\n",
        "!cat cis.xyz"
      ],
      "metadata": {
        "colab": {
          "base_uri": "https://localhost:8080/"
        },
        "id": "vjg18BYhdSuV",
        "outputId": "84664e20-3442-452a-ced5-686bccc3545a"
      },
      "execution_count": 62,
      "outputs": [
        {
          "output_type": "stream",
          "name": "stdout",
          "text": [
            "9\n",
            "\n",
            "F      1.224313    1.588683    0.229179\n",
            "C      1.326372    0.255371   -0.008640\n",
            "C      0.266800   -0.540877   -0.109760\n",
            "C     -1.101281    0.029552    0.040326\n",
            "H      2.326087   -0.140174   -0.114587\n",
            "H      0.415309   -1.598572   -0.300884\n",
            "H     -1.290803    0.390309    1.083251\n",
            "H     -1.843790   -0.790909   -0.115870\n",
            "H     -1.323007    0.806618   -0.703014\n"
          ]
        }
      ]
    },
    {
      "cell_type": "code",
      "source": [
        "# representación SMILES del isómero CIS\n",
        "smi_cis = \"C(=O)O\"\n",
        "# elemento de RDKit\n",
        "cis = Chem.MolFromSmiles(smi_cis)\n",
        "# agregamos sus hidrógenos\n",
        "cis = Chem.AddHs(cis)\n",
        "# etiquetamos sus átomos y generamos sus coordenadas usando una semilla\n",
        "Chem.AllChem.EmbedMolecule(cis, useRandomCoords=False,randomSeed=1234)\n",
        "# guardamos a un archivo XYZ\n",
        "Chem.MolToXYZFile(cis, \"cis.xyz\")"
      ],
      "metadata": {
        "id": "Tk57Qr0e-to2"
      },
      "execution_count": 63,
      "outputs": []
    },
    {
      "cell_type": "code",
      "source": [
        "#visualizamos\n",
        "cis"
      ],
      "metadata": {
        "id": "vEMqHYnr-yMA",
        "outputId": "9b25cde4-464b-4b18-e197-689cab79623f",
        "colab": {
          "base_uri": "https://localhost:8080/",
          "height": 167
        }
      },
      "execution_count": 64,
      "outputs": [
        {
          "output_type": "execute_result",
          "data": {
            "text/plain": [
              "<rdkit.Chem.rdchem.Mol at 0x7b6b02710f20>"
            ],
            "image/png": "[encoded data removed]"
          },
          "metadata": {},
          "execution_count": 64
        }
      ]
    },
    {
      "cell_type": "code",
      "source": [
        "# visualizamos las coordenadas en el archivo XYZ\n",
        "!cat cis.xyz"
      ],
      "metadata": {
        "id": "5DKQhQ3g-0iU",
        "outputId": "8615dd17-2cc1-4fae-ae1c-1c90771a454b",
        "colab": {
          "base_uri": "https://localhost:8080/"
        }
      },
      "execution_count": 65,
      "outputs": [
        {
          "output_type": "stream",
          "name": "stdout",
          "text": [
            "5\n",
            "\n",
            "C     -0.475933   -0.060606    0.237857\n",
            "O     -0.686562    1.170337    0.174932\n",
            "O      0.833538   -0.496012    0.173550\n",
            "H     -1.293150   -0.756500    0.339063\n",
            "H      1.622107    0.142782    0.219411\n"
          ]
        }
      ]
    },
    {
      "cell_type": "markdown",
      "source": [
        "### Isómero TRANS"
      ],
      "metadata": {
        "id": "4CNFIBRlqAdg"
      }
    },
    {
      "cell_type": "code",
      "source": [
        "smi_trans = \"F/C=C/C\"\n",
        "trans = Chem.MolFromSmiles(smi_trans)\n",
        "trans = Chem.AddHs(trans)\n",
        "Chem.AllChem.EmbedMolecule(trans, useRandomCoords=False,randomSeed=1234)\n",
        "Chem.MolToXYZFile(trans, \"trans.xyz\")"
      ],
      "metadata": {
        "id": "eu3mLcfTW3uL"
      },
      "execution_count": 94,
      "outputs": []
    },
    {
      "cell_type": "code",
      "source": [
        "trans"
      ],
      "metadata": {
        "colab": {
          "base_uri": "https://localhost:8080/",
          "height": 167
        },
        "id": "cua9Q9x-qNgV",
        "outputId": "a04be836-f390-4364-c1bc-e4eb75ae76f1"
      },
      "execution_count": 102,
      "outputs": [
        {
          "output_type": "execute_result",
          "data": {
            "text/plain": [
              "<rdkit.Chem.rdchem.Mol at 0x7b6b02529a10>"
            ],
            "image/png": "[encoded data removed]"
          },
          "metadata": {},
          "execution_count": 102
        }
      ]
    },
    {
      "cell_type": "code",
      "source": [
        "!cat trans.xyz"
      ],
      "metadata": {
        "colab": {
          "base_uri": "https://localhost:8080/"
        },
        "id": "GJ7HYjy-j2Dl",
        "outputId": "2f081b8f-a5e0-4788-e730-daaee45267c1"
      },
      "execution_count": 83,
      "outputs": [
        {
          "output_type": "stream",
          "name": "stdout",
          "text": [
            "9\n",
            "\n",
            "F      2.548043    0.255798   -0.051804\n",
            "C      1.310325   -0.297546    0.040056\n",
            "C      0.243682    0.487148   -0.067889\n",
            "C     -1.128832   -0.079367    0.026988\n",
            "H      1.169516   -1.367331    0.199862\n",
            "H      0.416502    1.563075   -0.228819\n",
            "H     -1.412747   -0.391958    1.029624\n",
            "H     -1.305683   -0.908523   -0.662271\n",
            "H     -1.840807    0.738703   -0.285747\n"
          ]
        }
      ]
    },
    {
      "cell_type": "code",
      "source": [
        "smi_trans = \"C(=O)O\"\n",
        "trans = Chem.MolFromSmiles(smi_trans)\n",
        "trans = Chem.AddHs(trans)\n",
        "Chem.AllChem.EmbedMolecule(trans, useRandomCoords=False,randomSeed=1234)\n",
        "Chem.MolToXYZFile(trans, \"trans.xyz\")"
      ],
      "metadata": {
        "id": "noKz8mv5BT5i"
      },
      "execution_count": 107,
      "outputs": []
    },
    {
      "cell_type": "code",
      "source": [
        "trans"
      ],
      "metadata": {
        "id": "JP5sy-ZqBcvy",
        "outputId": "866db030-0e81-4a1a-b623-104262c49051",
        "colab": {
          "base_uri": "https://localhost:8080/",
          "height": 167
        }
      },
      "execution_count": 90,
      "outputs": [
        {
          "output_type": "execute_result",
          "data": {
            "text/plain": [
              "<rdkit.Chem.rdchem.Mol at 0x7b6b02711460>"
            ],
            "image/png": "[encoded data removed]"
          },
          "metadata": {},
          "execution_count": 90
        }
      ]
    },
    {
      "cell_type": "markdown",
      "source": [
        "### Diedro = 90.0 º"
      ],
      "metadata": {
        "id": "cgwVN0EcjTyG"
      }
    },
    {
      "cell_type": "code",
      "source": [
        "Chem.AllChem.SetDihedralDeg(cis.GetConformer(0),3,0,2,4,90.0)\n",
        "Chem.MolToXYZFile(cis, \"diedro90.xyz\")\n",
        "cis"
      ],
      "metadata": {
        "colab": {
          "base_uri": "https://localhost:8080/",
          "height": 167
        },
        "id": "SnPyM7kAaPU8",
        "outputId": "beb49f37-bed9-4186-fcf4-d52c65d3aa1d"
      },
      "execution_count": 110,
      "outputs": [
        {
          "output_type": "execute_result",
          "data": {
            "text/plain": [
              "<rdkit.Chem.rdchem.Mol at 0x7b6b02710f20>"
            ],
            "image/png": "[encoded data removed]"
          },
          "metadata": {},
          "execution_count": 110
        }
      ]
    },
    {
      "cell_type": "code",
      "source": [
        "!cat diedro90.xyz"
      ],
      "metadata": {
        "colab": {
          "base_uri": "https://localhost:8080/"
        },
        "id": "Ff-MLt7Ud5JS",
        "outputId": "9c8396f1-7dab-4cdd-9726-f7e8e7b68931"
      },
      "execution_count": 114,
      "outputs": [
        {
          "output_type": "stream",
          "name": "stdout",
          "text": [
            "5\n",
            "\n",
            "C     -0.475933   -0.060606    0.237857\n",
            "O     -0.686562    1.170337    0.174932\n",
            "O      0.833538   -0.496012    0.173550\n",
            "H     -1.293150   -0.756500    0.339063\n",
            "H      1.289325   -0.721383   -0.705921\n"
          ]
        }
      ]
    },
    {
      "cell_type": "markdown",
      "source": [
        "## [3] Cálculo de energía"
      ],
      "metadata": {
        "id": "Na1RtCaFhFkJ"
      }
    },
    {
      "cell_type": "markdown",
      "source": [
        "### CIS"
      ],
      "metadata": {
        "id": "N_yA7D_Wj8m-"
      }
    },
    {
      "cell_type": "code",
      "source": [
        "cis = gto.M(atom=\"cis.xyz\")"
      ],
      "metadata": {
        "id": "AQ7auPkOhI5Z"
      },
      "execution_count": 115,
      "outputs": []
    },
    {
      "cell_type": "code",
      "source": [
        "cis.basis = \"6-31G\"\n",
        "mf_cis = cis.KS()\n",
        "mf_cis.xc = 'b3lyp'"
      ],
      "metadata": {
        "id": "yXVgChkZhQMB"
      },
      "execution_count": 116,
      "outputs": []
    },
    {
      "cell_type": "code",
      "source": [
        "resultado_cis = mf_cis.kernel()\n",
        "resultado_cis"
      ],
      "metadata": {
        "colab": {
          "base_uri": "https://localhost:8080/"
        },
        "id": "UBEOexDCh1F1",
        "outputId": "ee0aad41-3296-481d-ede6-a78b4b6c6d4e"
      },
      "execution_count": 117,
      "outputs": [
        {
          "output_type": "stream",
          "name": "stdout",
          "text": [
            "converged SCF energy = -187.128311086825\n"
          ]
        },
        {
          "output_type": "execute_result",
          "data": {
            "text/plain": [
              "-187.1283110868253"
            ]
          },
          "metadata": {},
          "execution_count": 117
        }
      ]
    },
    {
      "cell_type": "markdown",
      "source": [
        "### Diedro 90"
      ],
      "metadata": {
        "id": "KvP9y3Bcj_al"
      }
    },
    {
      "cell_type": "code",
      "source": [
        "cis_90 = gto.M(atom=\"diedro90.xyz\")"
      ],
      "metadata": {
        "id": "HOG1U-DBkWEC"
      },
      "execution_count": 118,
      "outputs": []
    },
    {
      "cell_type": "code",
      "source": [
        "cis_90.basis = \"6-31G\"\n",
        "mf_90 = cis_90.KS()\n",
        "mf_90.xc = 'b3lyp'"
      ],
      "metadata": {
        "id": "odzdddSWkWED"
      },
      "execution_count": 119,
      "outputs": []
    },
    {
      "cell_type": "code",
      "source": [
        "resultado_cis_90 = mf_90.kernel()\n",
        "resultado_cis_90"
      ],
      "metadata": {
        "colab": {
          "base_uri": "https://localhost:8080/"
        },
        "outputId": "9c594e27-2569-4e7b-9168-bd25d96742e0",
        "id": "gtbFA7SZkWEE"
      },
      "execution_count": 120,
      "outputs": [
        {
          "output_type": "stream",
          "name": "stdout",
          "text": [
            "converged SCF energy = -187.112761299158\n"
          ]
        },
        {
          "output_type": "execute_result",
          "data": {
            "text/plain": [
              "-187.11276129915848"
            ]
          },
          "metadata": {},
          "execution_count": 120
        }
      ]
    },
    {
      "cell_type": "markdown",
      "source": [
        "### TRANS"
      ],
      "metadata": {
        "id": "7FBAAV6LkP1m"
      }
    },
    {
      "cell_type": "code",
      "source": [
        "trans = gto.M(atom=\"trans.xyz\")"
      ],
      "metadata": {
        "id": "YbsfqumolIfM"
      },
      "execution_count": 121,
      "outputs": []
    },
    {
      "cell_type": "code",
      "source": [
        "trans.basis = \"6-31G\"\n",
        "mf_trans = trans.KS()\n",
        "mf_trans.xc = 'b3lyp'"
      ],
      "metadata": {
        "id": "og1W3XKPlIfN"
      },
      "execution_count": 122,
      "outputs": []
    },
    {
      "cell_type": "code",
      "source": [
        "resultado_trans= mf_trans.kernel()  #Aqui se han calculado las Energías\n",
        "resultado_trans"
      ],
      "metadata": {
        "colab": {
          "base_uri": "https://localhost:8080/"
        },
        "outputId": "62b643a6-1024-453f-9a50-6ae6a803fc62",
        "id": "qp4GWMetlIfR"
      },
      "execution_count": 123,
      "outputs": [
        {
          "output_type": "stream",
          "name": "stdout",
          "text": [
            "converged SCF energy = -187.128311086825\n"
          ]
        },
        {
          "output_type": "execute_result",
          "data": {
            "text/plain": [
              "-187.1283110868252"
            ]
          },
          "metadata": {},
          "execution_count": 123
        }
      ]
    },
    {
      "cell_type": "markdown",
      "source": [
        "## 4. Gráfica"
      ],
      "metadata": {
        "id": "EFC_5fDaiUdu"
      }
    },
    {
      "cell_type": "code",
      "source": [
        "%%capture\n",
        "!pip install git+https://github.com/giacomomarchioro/PyEnergyDiagrams"
      ],
      "metadata": {
        "id": "FwuNY2YAmqXD"
      },
      "execution_count": 124,
      "outputs": []
    },
    {
      "cell_type": "code",
      "source": [
        "import matplotlib.pyplot as plt\n",
        "from energydiagram import ED"
      ],
      "metadata": {
        "id": "zwj1LJ3ziUF3"
      },
      "execution_count": 125,
      "outputs": []
    },
    {
      "cell_type": "code",
      "source": [
        "diagram = ED()  #generar las grafica de energia de activación\n",
        "diagram.add_level(resultado_cis,'Cis',color='b')\n",
        "diagram.add_level(resultado_cis_90,'TS',color='m')\n",
        "diagram.add_level(resultado_trans,'Trans',color='g')\n",
        "\n",
        "diagram.add_link(0,1)\n",
        "diagram.add_link(1,2)\n",
        "diagram.plot(ylabel=\"Energy\") # / $kcal$ $mol^{-1}$\")"
      ],
      "metadata": {
        "colab": {
          "base_uri": "https://localhost:8080/",
          "height": 403
        },
        "id": "FB0mkhCwsIrs",
        "outputId": "3f66a7d0-1e62-4f15-8ad6-cccaef740669"
      },
      "execution_count": 133,
      "outputs": [
        {
          "output_type": "display_data",
          "data": {
            "text/plain": [
              "<Figure size 640x480 with 1 Axes>"
            ],
            "image/png": "[encoded data removed]"
          },
          "metadata": {}
        }
      ]
    },
    {
      "cell_type": "markdown",
      "source": [
        "## Cinética:"
      ],
      "metadata": {
        "id": "s6KjCM68siqt"
      }
    },
    {
      "cell_type": "code",
      "source": [
        "E_activacion = resultado_cis_90 - resultado_cis  #Aqui se deternmina la energia que requiere el producto para llegar al estado de transición\n",
        "E_activacion"
      ],
      "metadata": {
        "colab": {
          "base_uri": "https://localhost:8080/"
        },
        "id": "5FxZxUSgsmcs",
        "outputId": "ac427908-54bb-4f06-a7a1-e55f4976a346"
      },
      "execution_count": 134,
      "outputs": [
        {
          "output_type": "execute_result",
          "data": {
            "text/plain": [
              "0.015549787666827797"
            ]
          },
          "metadata": {},
          "execution_count": 134
        }
      ]
    },
    {
      "cell_type": "markdown",
      "source": [
        "## Termodinámica"
      ],
      "metadata": {
        "id": "WyDYLxxoiauo"
      }
    },
    {
      "cell_type": "code",
      "source": [
        "entalpia = resultado_trans - resultado_cis  # Aqui depende de la diferencia del producto, para saber si es #ENDOTERMICA o #EXOTERMICA\n",
        "if entalpia>0:\n",
        "  print(\"La reacción es endotérmica\")\n",
        "else:\n",
        "    print(\"La reacción es exotérmica\")"
      ],
      "metadata": {
        "colab": {
          "base_uri": "https://localhost:8080/"
        },
        "id": "fBTGtt-Ii9Zv",
        "outputId": "f86b8cd9-f59d-4292-f090-4ef632916249"
      },
      "execution_count": 136,
      "outputs": [
        {
          "output_type": "stream",
          "name": "stdout",
          "text": [
            "La reacción es endotérmica\n"
          ]
        }
      ]
    }
  ]
}